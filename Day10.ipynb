{
  "nbformat": 4,
  "nbformat_minor": 0,
  "metadata": {
    "colab": {
      "provenance": []
    },
    "kernelspec": {
      "name": "python3",
      "display_name": "Python 3"
    },
    "language_info": {
      "name": "python"
    }
  },
  "cells": [
    {
      "cell_type": "code",
      "execution_count": null,
      "metadata": {
        "id": "3E3EnoOxbBhf"
      },
      "outputs": [],
      "source": [
        "#question 46\n",
        "\n",
        "In this example, we'll use the famous Iris dataset for classification. We'll perform the following steps:\n",
        "\n",
        "1. Load the Iris dataset.\n",
        "2. Preprocess the dataset (if necessary).\n",
        "3. Choose a classification algorithm.\n",
        "4. Train the model.\n",
        "5. Evaluate the model using cross-validation.\n",
        "6. Analyze the results.\n",
        "\n",
        "Let's start:\n",
        "\n",
        "1. **Launch Weka**: Open Weka from your system.\n",
        "\n",
        "2. **Load the Dataset**:\n",
        "   - Click on the \"Explorer\" tab.\n",
        "   - Click on the \"Open file\" button and select the Iris dataset (typically named \"iris.arff\").\n",
        "\n",
        "3. **Preprocessing (if necessary)**:\n",
        "   - Inspect the dataset to see if any preprocessing is needed. For the Iris dataset, it usually doesn't require preprocessing.\n",
        "\n",
        "4. **Choose a Classification Algorithm**:\n",
        "   - Click on the \"Classify\" tab.\n",
        "   - You'll see a list of classifiers on the left panel. Choose a classifier. For example, let's select the J48 decision tree algorithm.\n",
        "\n",
        "5. **Train the Model**:\n",
        "   - Click on the chosen classifier (e.g., J48).\n",
        "   - You'll see various options for the classifier. You can leave them as default or customize as needed.\n",
        "   - Click on the \"Start\" button to train the model.\n",
        "\n",
        "6. **Evaluate the Model**:\n",
        "   - Once the model is trained, you can evaluate its performance using cross-validation.\n",
        "   - Click on the \"Supervised\" tab.\n",
        "   - Click on \"Cross-validation\" under \"Test options.\"\n",
        "   - Specify the number of folds (e.g., 10-fold cross-validation).\n",
        "   - Click on the \"Start\" button to perform cross-validation.\n",
        "\n",
        "7. **Analyze the Results**:\n",
        "   - After the cross-validation is completed, you'll see various performance metrics such as accuracy, precision, recall, F-measure, etc.\n",
        "   - Analyze these metrics to understand the performance of the trained model.\n",
        "\n",
        "That's it! You've designed and run your first experiment in Weka using the Iris dataset. You can explore more datasets, classifiers, and evaluation techniques to gain deeper insights into machine learning."
      ]
    },
    {
      "cell_type": "code",
      "source": [
        "#question 47\n",
        "\n",
        "from sklearn.datasets import load_digits\n",
        "from sklearn.model_selection import train_test_split\n",
        "from sklearn.linear_model import Perceptron\n",
        "from sklearn.metrics import accuracy_score\n",
        "\n",
        "# Load the MNIST dataset\n",
        "digits = load_digits()\n",
        "\n",
        "# Split the dataset into training and testing sets\n",
        "X_train, X_test, y_train, y_test = train_test_split(digits.data, digits.target, test_size=0.2, random_state=42)\n",
        "\n",
        "# Initialize the Perceptron classifier\n",
        "perceptron = Perceptron()\n",
        "\n",
        "# Train the Perceptron classifier\n",
        "perceptron.fit(X_train, y_train)\n",
        "\n",
        "# Predict the labels for test data\n",
        "y_pred = perceptron.predict(X_test)\n",
        "\n",
        "# Calculate accuracy\n",
        "accuracy = accuracy_score(y_test, y_pred)\n",
        "print(\"Accuracy:\", accuracy)\n"
      ],
      "metadata": {
        "colab": {
          "base_uri": "https://localhost:8080/"
        },
        "id": "eDfOl82FbIJO",
        "outputId": "cbd1a298-51c5-4d1b-85a9-eabca223dddd"
      },
      "execution_count": 1,
      "outputs": [
        {
          "output_type": "stream",
          "name": "stdout",
          "text": [
            "Accuracy: 0.9527777777777777\n"
          ]
        }
      ]
    },
    {
      "cell_type": "code",
      "source": [
        "#question 48\n",
        "import numpy as np\n",
        "import matplotlib.pyplot as plt\n",
        "from sklearn.datasets import load_digits\n",
        "from sklearn.model_selection import train_test_split\n",
        "from sklearn.linear_model import SGDClassifier, Perceptron, PassiveAggressiveClassifier\n",
        "from sklearn.metrics import accuracy_score\n",
        "\n",
        "# Load the MNIST dataset\n",
        "digits = load_digits()\n",
        "\n",
        "# Split the dataset into training and testing sets\n",
        "X_train, X_test, y_train, y_test = train_test_split(digits.data, digits.target, test_size=0.2, random_state=42)\n",
        "\n",
        "# Initialize classifiers with different online solvers\n",
        "classifiers = {\n",
        "    \"SGD\": SGDClassifier(loss='hinge', max_iter=1000, tol=1e-3),\n",
        "    \"Perceptron\": Perceptron(tol=1e-3),\n",
        "    \"PA\": PassiveAggressiveClassifier(max_iter=1000, tol=1e-3)\n",
        "}\n",
        "\n",
        "# Train and evaluate each classifier\n",
        "accuracies = {}\n",
        "for name, clf in classifiers.items():\n",
        "    clf.fit(X_train, y_train)\n",
        "    y_pred = clf.predict(X_test)\n",
        "    accuracies[name] = accuracy_score(y_test, y_pred)\n",
        "\n",
        "# Plot the accuracies\n",
        "plt.bar(accuracies.keys(), accuracies.values())\n",
        "plt.xlabel('Classifier')\n",
        "plt.ylabel('Accuracy')\n",
        "plt.title('Accuracy of Different Online Solvers on Hand-written Digits')\n",
        "plt.ylim(0.0, 1.0)\n",
        "plt.show()\n"
      ],
      "metadata": {
        "colab": {
          "base_uri": "https://localhost:8080/",
          "height": 472
        },
        "id": "2rQOC7TMbVWW",
        "outputId": "3b0b45eb-7744-442b-b790-101e646e720e"
      },
      "execution_count": 2,
      "outputs": [
        {
          "output_type": "display_data",
          "data": {
            "text/plain": [
              "<Figure size 640x480 with 1 Axes>"
            ],
            "image/png": "[encoded data removed]"
          },
          "metadata": {}
        }
      ]
    },
    {
      "cell_type": "code",
      "source": [
        "#question 49\n",
        "\n",
        "import numpy as np\n",
        "import pandas as pd\n",
        "from sklearn.datasets import load_breast_cancer\n",
        "from sklearn.model_selection import train_test_split\n",
        "from sklearn.naive_bayes import GaussianNB\n",
        "from sklearn.metrics import accuracy_score, classification_report\n",
        "\n",
        "# Load the Breast Cancer Wisconsin dataset\n",
        "data = load_breast_cancer()\n",
        "X = data.data\n",
        "y = data.target\n",
        "\n",
        "# Split the dataset into training and testing sets\n",
        "X_train, X_test, y_train, y_test = train_test_split(X, y, test_size=0.2, random_state=42)\n",
        "\n",
        "# Initialize the Naive Bayes classifier (Gaussian Naive Bayes)\n",
        "nb_classifier = GaussianNB()\n",
        "\n",
        "# Train the classifier\n",
        "nb_classifier.fit(X_train, y_train)\n",
        "\n",
        "# Predict on the testing data\n",
        "y_pred = nb_classifier.predict(X_test)\n",
        "\n",
        "# Calculate accuracy\n",
        "accuracy = accuracy_score(y_test, y_pred)\n",
        "print(\"Accuracy:\", accuracy)\n",
        "\n",
        "# Display classification report\n",
        "print(\"Classification Report:\")\n",
        "print(classification_report(y_test, y_pred))\n"
      ],
      "metadata": {
        "colab": {
          "base_uri": "https://localhost:8080/"
        },
        "id": "ubu2Be04bhCl",
        "outputId": "f520d8e7-6295-4352-ff85-72806e6c4692"
      },
      "execution_count": 3,
      "outputs": [
        {
          "output_type": "stream",
          "name": "stdout",
          "text": [
            "Accuracy: 0.9736842105263158\n",
            "Classification Report:\n",
            "              precision    recall  f1-score   support\n",
            "\n",
            "           0       1.00      0.93      0.96        43\n",
            "           1       0.96      1.00      0.98        71\n",
            "\n",
            "    accuracy                           0.97       114\n",
            "   macro avg       0.98      0.97      0.97       114\n",
            "weighted avg       0.97      0.97      0.97       114\n",
            "\n"
          ]
        }
      ]
    },
    {
      "cell_type": "code",
      "source": [
        "#question 50\n",
        "import numpy as np\n",
        "from sklearn.model_selection import train_test_split\n",
        "from sklearn.naive_bayes import GaussianNB\n",
        "from sklearn.metrics import accuracy_score\n",
        "\n",
        "# Generate random data for 100 individuals\n",
        "np.random.seed(0)  # For reproducibility\n",
        "num_individuals = 100\n",
        "body_sizes = np.random.uniform(150, 200, num_individuals)  # Random body sizes between 150 and 200\n",
        "weights = np.random.uniform(50, 100, num_individuals)  # Random weights between 50 and 100\n",
        "genders = np.random.choice(['Male', 'Female'], num_individuals)  # Random gender tags\n",
        "\n",
        "# Write data to the text file\n",
        "with open('person_data.txt', 'w') as file:\n",
        "    for i in range(num_individuals):\n",
        "        file.write(f\"{body_sizes[i]} {weights[i]} {genders[i]}\\n\")\n",
        "\n",
        "# Read the data from the file\n",
        "with open('person_data.txt', 'r') as file:\n",
        "    lines = file.readlines()\n",
        "\n",
        "# Preprocess the data (split by whitespace and remove newline characters)\n",
        "data = [line.strip().split() for line in lines]\n",
        "\n",
        "# Extract features (body size and weight) and labels (gender)\n",
        "X = np.array([[float(person[0]), float(person[1])] for person in data])\n",
        "y = np.array([person[2] for person in data])\n",
        "\n",
        "# Split the data into training and testing sets\n",
        "X_train, X_test, y_train, y_test = train_test_split(X, y, test_size=0.2, random_state=42)\n",
        "\n",
        "# Initialize and train a Naive Bayes classifier\n",
        "nb_classifier = GaussianNB()\n",
        "nb_classifier.fit(X_train, y_train)\n",
        "\n",
        "# Predict labels for the test data\n",
        "y_pred = nb_classifier.predict(X_test)\n",
        "\n",
        "# Calculate accuracy\n",
        "accuracy = accuracy_score(y_test, y_pred)\n",
        "print(\"Accuracy:\", accuracy)\n"
      ],
      "metadata": {
        "colab": {
          "base_uri": "https://localhost:8080/"
        },
        "id": "zfjjBiwIcDJl",
        "outputId": "35977635-bd74-4a98-ac02-1a32539f7453"
      },
      "execution_count": 4,
      "outputs": [
        {
          "output_type": "stream",
          "name": "stdout",
          "text": [
            "Accuracy: 0.45\n"
          ]
        }
      ]
    }
  ]
}